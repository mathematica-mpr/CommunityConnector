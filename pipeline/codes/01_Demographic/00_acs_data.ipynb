{
 "cells": [
  {
   "cell_type": "code",
   "execution_count": 1,
   "metadata": {},
   "outputs": [],
   "source": [
    "# Resources: \n",
    "# Code lists, definitions, accuracy: https://www.census.gov/programs-surveys/acs/technical-documentation/code-lists.html\n",
    "# Gitter help: https://gitter.im/uscensusbureau/general\n",
    "# Variables: https://api.census.gov/data/2017/acs/acs5/variables.html\n",
    "# available datasets: https://api.census.gov/data.html\n",
    "# available geographies: https://api.census.gov/data/2009/acs5/geography.html\n",
    "# instructional PPT: https://www.census.gov/content/dam/Census/programs-surveys/acs/guidance/training-presentations/06212017_ACS_Census_API.pdf"
   ]
  },
  {
   "cell_type": "code",
   "execution_count": 33,
   "metadata": {},
   "outputs": [
    {
     "name": "stdout",
     "output_type": "stream",
     "text": [
      "N:\\Transfer\\KSkvoretz\\AHRQ\\data\\01_Demographic\\cleaned\n"
     ]
    }
   ],
   "source": [
    "import requests\n",
    "import urllib.request\n",
    "import time\n",
    "import pandas as pd\n",
    "import json\n",
    "import censusdata\n",
    "import math\n",
    "import os\n",
    "from pathlib import Path\n",
    "\n",
    "n_drive = 'N:\\Transfer\\KSkvoretz\\AHRQ\\data\\\\01_Demographic\\ACS'\n",
    "output = os.path.join(Path(n_drive).parents[0], 'cleaned')\n",
    "\n",
    "key = 'b34f5dfe18f660a15a278a309760c38ef401b395'"
   ]
  },
  {
   "cell_type": "markdown",
   "metadata": {},
   "source": [
    "# Read in table shells where I've flagged which variables to use"
   ]
  },
  {
   "cell_type": "code",
   "execution_count": 3,
   "metadata": {},
   "outputs": [
    {
     "name": "stdout",
     "output_type": "stream",
     "text": [
      "      TableID Line UniqueID  \\\n",
      "9      B01001           NaN   \n",
      "549    B02001  NaN      NaN   \n",
      "1463   B05001           NaN   \n",
      "2955   B06007           NaN   \n",
      "3097   B06008           NaN   \n",
      "...       ...  ...      ...   \n",
      "31509  B25100           NaN   \n",
      "34862  B27001  NaN      NaN   \n",
      "34922  C27001  NaN      NaN   \n",
      "36014  B27010  NaN      NaN   \n",
      "36083  C27010  NaN      NaN   \n",
      "\n",
      "                                                    Stub Data Release  Use  \n",
      "9                                             SEX BY AGE         1,5   1.0  \n",
      "549                                                 RACE         1,5   1.0  \n",
      "1463   NATIVITY AND CITIZENSHIP STATUS IN THE UNITED ...         1,5   1.0  \n",
      "2955   PLACE OF BIRTH BY LANGUAGE SPOKEN AT HOME AND ...         1,5   1.0  \n",
      "3097   PLACE OF BIRTH BY MARITAL STATUS IN THE UNITED...         1,5   1.0  \n",
      "...                                                  ...          ...  ...  \n",
      "31509  MORTGAGE STATUS BY RATIO OF VALUE TO HOUSEHOLD...         1,5   1.0  \n",
      "34862     HEALTH INSURANCE COVERAGE STATUS BY SEX BY AGE         1,5   1.0  \n",
      "34922     HEALTH INSURANCE COVERAGE STATUS BY SEX BY AGE            1  1.0  \n",
      "36014          TYPES OF HEALTH INSURANCE COVERAGE BY AGE         1,5   1.0  \n",
      "36083          TYPES OF HEALTH INSURANCE COVERAGE BY AGE            1  1.0  \n",
      "\n",
      "[68 rows x 6 columns]\n",
      "      TableID                                               Stub  Use\n",
      "9      B01001                                         SEX BY AGE  1.0\n",
      "549    B02001                                               RACE  1.0\n",
      "1463   B05001  NATIVITY AND CITIZENSHIP STATUS IN THE UNITED ...  1.0\n",
      "2955   B06007  PLACE OF BIRTH BY LANGUAGE SPOKEN AT HOME AND ...  1.0\n",
      "3097   B06008  PLACE OF BIRTH BY MARITAL STATUS IN THE UNITED...  1.0\n",
      "...       ...                                                ...  ...\n",
      "31509  B25100  MORTGAGE STATUS BY RATIO OF VALUE TO HOUSEHOLD...  1.0\n",
      "34862  B27001     HEALTH INSURANCE COVERAGE STATUS BY SEX BY AGE  1.0\n",
      "34922  C27001     HEALTH INSURANCE COVERAGE STATUS BY SEX BY AGE  1.0\n",
      "36014  B27010          TYPES OF HEALTH INSURANCE COVERAGE BY AGE  1.0\n",
      "36083  C27010          TYPES OF HEALTH INSURANCE COVERAGE BY AGE  1.0\n",
      "\n",
      "[68 rows x 3 columns]\n"
     ]
    }
   ],
   "source": [
    "table_shell = os.path.join(n_drive, 'ACS2017_Table_Shells.xlsx')\n",
    "xl = pd.ExcelFile(table_shell)\n",
    "\n",
    "table_shell_df = xl.parse(xl.sheet_names[0])\n",
    "# variables I've flagged to use\n",
    "use_vars = table_shell_df[table_shell_df.Use == 1]\n",
    "print(use_vars)\n",
    "print(use_vars[['TableID','Stub','Use']])\n",
    "\n",
    "# Potentially others?\n",
    "# disability\n",
    "# vision/hearing difficulty?\n",
    "# other stuff by race?? -i.e. health insurance?\n",
    "# internet\n",
    "# population coverage\n",
    "\n",
    "# add category to variable names?\n",
    "\n",
    "use_vars.to_csv(os.path.join(n_drive, 'ACS_variables.csv'))"
   ]
  },
  {
   "cell_type": "code",
   "execution_count": 4,
   "metadata": {},
   "outputs": [],
   "source": [
    "variables = use_vars.TableID.tolist()"
   ]
  },
  {
   "cell_type": "markdown",
   "metadata": {},
   "source": [
    "# Method 1: Scrape data from API"
   ]
  },
  {
   "cell_type": "code",
   "execution_count": 5,
   "metadata": {},
   "outputs": [],
   "source": [
    "def api_pull(variable):\n",
    "    \"\"\"\n",
    "    \n",
    "    if get an error here, use jupyter notebook --NotebookApp.iopub_data_rate_limit=10000000000\n",
    "    \"\"\"\n",
    "    # all the B01001 variables across US or by state for 5 year ACS\n",
    "    # acs5 = dataset name\n",
    "    # ?key = \n",
    "    # get = variable,names,separated,by,commas\n",
    "    # &for=geography level:code or * for all\n",
    "\n",
    "    # i.e. &for=county+subdivision:*&in=state:36, &for=county+subdivision:*&in=state:36+county:001\n",
    "\n",
    "    url = f'https://api.census.gov/data/2017/acs/acs5?key={key}&get=NAME,group({variables[0]})&for=county:*&in=state:08'\n",
    "\n",
    "    response = requests.get(url)\n",
    "\n",
    "    formattedResponse = json.loads(response.text)[1:]\n",
    "\n",
    "    data = pd.DataFrame(formattedResponse)\n",
    "    return data"
   ]
  },
  {
   "cell_type": "code",
   "execution_count": 6,
   "metadata": {},
   "outputs": [
    {
     "name": "stdout",
     "output_type": "stream",
     "text": [
      "                         0               1       2           3       4    5    \\\n",
      "0  Costilla County, Colorado  0500000US08023    3628  -555555555    1958   41   \n",
      "1     Adams County, Colorado  0500000US08001  487850  -555555555  245840  136   \n",
      "2   Conejos County, Colorado  0500000US08021    8147  -555555555    4084   28   \n",
      "3    Custer County, Colorado  0500000US08027    4505  -555555555    2200  116   \n",
      "4   Douglas County, Colorado  0500000US08035  320940  -555555555  159804   71   \n",
      "\n",
      "     6    7      8    9    ...   191   192   193   194   195   196   197  \\\n",
      "0    101   33    120   61  ...  None  None  None  None  None  None  None   \n",
      "1  18737  119  19722  861  ...  None  None  None  None  None  None  None   \n",
      "2    302   27    260   44  ...  None  None  None  None  None  None  None   \n",
      "3     45   35     48   42  ...  None  None  None  None  None  None  None   \n",
      "4  10380  116  12841  551  ...  None  None  None  None  None  None  None   \n",
      "\n",
      "    198 199  200  \n",
      "0  None  08  023  \n",
      "1  None  08  001  \n",
      "2  None  08  021  \n",
      "3  None  08  027  \n",
      "4  None  08  035  \n",
      "\n",
      "[5 rows x 201 columns]\n",
      "(64, 201)\n"
     ]
    }
   ],
   "source": [
    "# what are these columns though?\n",
    "co = api_pull(variables[0])\n",
    "print(co.head())\n",
    "print(co.shape)"
   ]
  },
  {
   "cell_type": "markdown",
   "metadata": {},
   "source": [
    "# Method 2: Use the census data package"
   ]
  },
  {
   "cell_type": "code",
   "execution_count": 7,
   "metadata": {
    "scrolled": true
   },
   "outputs": [
    {
     "name": "stdout",
     "output_type": "stream",
     "text": [
      "Variable     | Table                          | Label                                                    | Type \n",
      "-------------------------------------------------------------------------------------------------------------------\n",
      "B23025_001E  | EMPLOYMENT STATUS FOR THE POPU | !! Estimate Total                                        | int  \n",
      "B23025_002E  | EMPLOYMENT STATUS FOR THE POPU | !! !! Estimate Total In labor force                      | int  \n",
      "B23025_003E  | EMPLOYMENT STATUS FOR THE POPU | !! !! !! Estimate Total In labor force Civilian labor fo | int  \n",
      "B23025_004E  | EMPLOYMENT STATUS FOR THE POPU | !! !! !! !! Estimate Total In labor force Civilian labor | int  \n",
      "B23025_005E  | EMPLOYMENT STATUS FOR THE POPU | !! !! !! !! Estimate Total In labor force Civilian labor | int  \n",
      "B23025_006E  | EMPLOYMENT STATUS FOR THE POPU | !! !! !! Estimate Total In labor force Armed Forces      | int  \n",
      "B23025_007E  | EMPLOYMENT STATUS FOR THE POPU | !! !! Estimate Total Not in labor force                  | int  \n",
      "-------------------------------------------------------------------------------------------------------------------\n"
     ]
    },
    {
     "data": {
      "text/plain": [
       "{'Costilla County, Colorado': censusgeo((('state', '08'), ('county', '023'))),\n",
       " 'Adams County, Colorado': censusgeo((('state', '08'), ('county', '001'))),\n",
       " 'Conejos County, Colorado': censusgeo((('state', '08'), ('county', '021'))),\n",
       " 'Custer County, Colorado': censusgeo((('state', '08'), ('county', '027'))),\n",
       " 'Douglas County, Colorado': censusgeo((('state', '08'), ('county', '035'))),\n",
       " 'Eagle County, Colorado': censusgeo((('state', '08'), ('county', '037'))),\n",
       " 'Lake County, Colorado': censusgeo((('state', '08'), ('county', '065'))),\n",
       " 'La Plata County, Colorado': censusgeo((('state', '08'), ('county', '067'))),\n",
       " 'Moffat County, Colorado': censusgeo((('state', '08'), ('county', '081'))),\n",
       " 'Pitkin County, Colorado': censusgeo((('state', '08'), ('county', '097'))),\n",
       " 'Rio Grande County, Colorado': censusgeo((('state', '08'), ('county', '105'))),\n",
       " 'Cheyenne County, Colorado': censusgeo((('state', '08'), ('county', '017'))),\n",
       " 'Bent County, Colorado': censusgeo((('state', '08'), ('county', '011'))),\n",
       " 'Crowley County, Colorado': censusgeo((('state', '08'), ('county', '025'))),\n",
       " 'Dolores County, Colorado': censusgeo((('state', '08'), ('county', '033'))),\n",
       " 'San Juan County, Colorado': censusgeo((('state', '08'), ('county', '111'))),\n",
       " 'Jackson County, Colorado': censusgeo((('state', '08'), ('county', '057'))),\n",
       " 'Larimer County, Colorado': censusgeo((('state', '08'), ('county', '069'))),\n",
       " 'Logan County, Colorado': censusgeo((('state', '08'), ('county', '075'))),\n",
       " 'Montezuma County, Colorado': censusgeo((('state', '08'), ('county', '083'))),\n",
       " 'San Miguel County, Colorado': censusgeo((('state', '08'), ('county', '113'))),\n",
       " 'Teller County, Colorado': censusgeo((('state', '08'), ('county', '119'))),\n",
       " 'Yuma County, Colorado': censusgeo((('state', '08'), ('county', '125'))),\n",
       " 'Boulder County, Colorado': censusgeo((('state', '08'), ('county', '013'))),\n",
       " 'Elbert County, Colorado': censusgeo((('state', '08'), ('county', '039'))),\n",
       " 'Las Animas County, Colorado': censusgeo((('state', '08'), ('county', '071'))),\n",
       " 'Lincoln County, Colorado': censusgeo((('state', '08'), ('county', '073'))),\n",
       " 'Clear Creek County, Colorado': censusgeo((('state', '08'), ('county', '019'))),\n",
       " 'Routt County, Colorado': censusgeo((('state', '08'), ('county', '107'))),\n",
       " 'Summit County, Colorado': censusgeo((('state', '08'), ('county', '117'))),\n",
       " 'Alamosa County, Colorado': censusgeo((('state', '08'), ('county', '003'))),\n",
       " 'Delta County, Colorado': censusgeo((('state', '08'), ('county', '029'))),\n",
       " 'Fremont County, Colorado': censusgeo((('state', '08'), ('county', '043'))),\n",
       " 'Pueblo County, Colorado': censusgeo((('state', '08'), ('county', '101'))),\n",
       " 'Montrose County, Colorado': censusgeo((('state', '08'), ('county', '085'))),\n",
       " 'Morgan County, Colorado': censusgeo((('state', '08'), ('county', '087'))),\n",
       " 'Park County, Colorado': censusgeo((('state', '08'), ('county', '093'))),\n",
       " 'Saguache County, Colorado': censusgeo((('state', '08'), ('county', '109'))),\n",
       " 'Mesa County, Colorado': censusgeo((('state', '08'), ('county', '077'))),\n",
       " 'Prowers County, Colorado': censusgeo((('state', '08'), ('county', '099'))),\n",
       " 'Hinsdale County, Colorado': censusgeo((('state', '08'), ('county', '053'))),\n",
       " 'El Paso County, Colorado': censusgeo((('state', '08'), ('county', '041'))),\n",
       " 'Washington County, Colorado': censusgeo((('state', '08'), ('county', '121'))),\n",
       " 'Grand County, Colorado': censusgeo((('state', '08'), ('county', '049'))),\n",
       " 'Arapahoe County, Colorado': censusgeo((('state', '08'), ('county', '005'))),\n",
       " 'Otero County, Colorado': censusgeo((('state', '08'), ('county', '089'))),\n",
       " 'Phillips County, Colorado': censusgeo((('state', '08'), ('county', '095'))),\n",
       " 'Archuleta County, Colorado': censusgeo((('state', '08'), ('county', '007'))),\n",
       " 'Denver County, Colorado': censusgeo((('state', '08'), ('county', '031'))),\n",
       " 'Kiowa County, Colorado': censusgeo((('state', '08'), ('county', '061'))),\n",
       " 'Huerfano County, Colorado': censusgeo((('state', '08'), ('county', '055'))),\n",
       " 'Baca County, Colorado': censusgeo((('state', '08'), ('county', '009'))),\n",
       " 'Chaffee County, Colorado': censusgeo((('state', '08'), ('county', '015'))),\n",
       " 'Gilpin County, Colorado': censusgeo((('state', '08'), ('county', '047'))),\n",
       " 'Kit Carson County, Colorado': censusgeo((('state', '08'), ('county', '063'))),\n",
       " 'Garfield County, Colorado': censusgeo((('state', '08'), ('county', '045'))),\n",
       " 'Gunnison County, Colorado': censusgeo((('state', '08'), ('county', '051'))),\n",
       " 'Jefferson County, Colorado': censusgeo((('state', '08'), ('county', '059'))),\n",
       " 'Mineral County, Colorado': censusgeo((('state', '08'), ('county', '079'))),\n",
       " 'Ouray County, Colorado': censusgeo((('state', '08'), ('county', '091'))),\n",
       " 'Rio Blanco County, Colorado': censusgeo((('state', '08'), ('county', '103'))),\n",
       " 'Sedgwick County, Colorado': censusgeo((('state', '08'), ('county', '115'))),\n",
       " 'Weld County, Colorado': censusgeo((('state', '08'), ('county', '123'))),\n",
       " 'Broomfield County, Colorado': censusgeo((('state', '08'), ('county', '014')))}"
      ]
     },
     "execution_count": 7,
     "metadata": {},
     "output_type": "execute_result"
    }
   ],
   "source": [
    "# Explore functionality\n",
    "censusdata.search('acs5', 2017, 'label','unemploy')\n",
    "# censusdata.search('acs5', 2017, 'concept', 'education')\n",
    "censusdata.printtable(censusdata.censustable('acs5',2017, 'B23025'))\n",
    "censusdata.geographies(censusdata.censusgeo([('state','*')]), 'acs5', 2017)\n",
    "censusdata.geographies(censusdata.censusgeo([('state', '08'), ('county', '*')]), 'acs5', 2017)"
   ]
  },
  {
   "cell_type": "code",
   "execution_count": 8,
   "metadata": {},
   "outputs": [],
   "source": [
    "def censusdata_pull(variable, acs_version = 'acs5', year = 2017, max_vars = 49.0):\n",
    "    \"\"\"\n",
    "    Used to pull and merge data for multiple variables, since we are using much more than 50\n",
    "    and 50 is the limit to pull from the API (According to the limit, it's 50, but it's actually 49)\n",
    "    \n",
    "    Args:\n",
    "        variable (string): variable group name\n",
    "        acs_version (string): 'acs5' for the 5-year survey\n",
    "        year (int): 2017 is the most recent as of now\n",
    "        max_vars (float): If API limit ever changes, we can adjust this default value from 49.0\n",
    "        \n",
    "    Returns:\n",
    "        dataframe\n",
    "    \n",
    "    \"\"\"\n",
    "    \n",
    "    # TODO: create a test to count all variables and match with number of columns in final dataframe\n",
    "    # TODO: create a dictionary of variable names with column names\n",
    "    \n",
    "    # Create a list of all variable names found related to the input variable group\n",
    "    census_dict = censusdata.censustable(acs_version,year,variable)\n",
    "    unique_ids = list(census_dict.keys())\n",
    "    \n",
    "    # The API sets a limit of pulling 50 variables at a time\n",
    "    num_vars = len(unique_ids)    \n",
    "    # Number of loops we'll have to do to pull groups of 50 or less variables\n",
    "    num_loops = math.ceil(num_vars/max_vars)\n",
    "    \n",
    "#     print(num_vars)\n",
    "#     print(num_loops)\n",
    "    \n",
    "    # used to store the indices of the 50 variables to be pulled\n",
    "    last = int(max_vars)\n",
    "    first = 0\n",
    "    for i in range(num_loops):\n",
    "        \n",
    "        print(len(unique_ids[first:last]))\n",
    "        data = censusdata.download(acs_version, year,\n",
    "                              censusdata.censusgeo([('state', '08'), ('county', '*')]),\n",
    "                              unique_ids[first:last])\n",
    "        \n",
    "        # rename columns from variable names\n",
    "        new_colnames = {}\n",
    "        for key, value in census_dict.items():\n",
    "            new_name = value['concept'] + \"_\" + value['label']\n",
    "            new_name = new_name.replace('!!', \"_\").replace(\" \", \"_\")\n",
    "            new_colnames[key] = new_name\n",
    "\n",
    "        data.rename(columns = new_colnames, inplace = True)\n",
    "        \n",
    "        if i == 0:\n",
    "            full_data = data\n",
    "        else:\n",
    "            # merge the data by county\n",
    "            full_data = full_data.join(data, how = 'outer')\n",
    "        \n",
    "        # increment to 50 variables later\n",
    "        last += int(max_vars)\n",
    "        first = last-int(max_vars)\n",
    "        if last > num_vars:\n",
    "            last = num_vars\n",
    "    \n",
    "    return full_data"
   ]
  },
  {
   "cell_type": "code",
   "execution_count": 9,
   "metadata": {},
   "outputs": [],
   "source": [
    "# doesn't seem like the C variables work, so remove them\n",
    "variables = [var for var in variables if 'C' not in var]\n",
    "variables = [var for var in variables if \"B17002\" not in var]"
   ]
  },
  {
   "cell_type": "code",
   "execution_count": 10,
   "metadata": {
    "scrolled": true
   },
   "outputs": [
    {
     "name": "stdout",
     "output_type": "stream",
     "text": [
      "Wall time: 0 ns\n",
      "B01001\n",
      "49\n",
      "B02001\n",
      "10\n",
      "B05001\n",
      "6\n",
      "B06007\n",
      "40\n",
      "B06008\n",
      "30\n",
      "B06010\n",
      "49\n",
      "6\n",
      "B06012\n",
      "20\n",
      "B07001\n",
      "49\n",
      "47\n",
      "B08006\n",
      "49\n",
      "2\n",
      "B08012\n",
      "39\n",
      "B08126\n",
      "49\n",
      "49\n",
      "7\n",
      "B08128\n",
      "49\n",
      "21\n",
      "B08202\n",
      "22\n",
      "B08301\n",
      "21\n",
      "B08303\n",
      "13\n",
      "B08524\n",
      "49\n",
      "B09001\n",
      "10\n",
      "B09002\n",
      "20\n",
      "B09005\n",
      "6\n",
      "B09008\n",
      "12\n",
      "B09010\n",
      "13\n",
      "B09018\n",
      "8\n",
      "B09021\n",
      "28\n",
      "B11001\n",
      "9\n",
      "B11016\n",
      "16\n",
      "B12001\n",
      "19\n",
      "B12006\n",
      "49\n",
      "7\n",
      "B12007\n",
      "2\n"
     ]
    },
    {
     "name": "stderr",
     "output_type": "stream",
     "text": [
      "C:\\Users\\kskvoretz\\Documents\\Projects\\.virtualenvs\\AHRQ-ebGvUS5S\\lib\\site-packages\\pandas\\core\\indexes\\base.py:3597: RuntimeWarning: '<' not supported between instances of 'censusgeo' and 'censusgeo', sort order is undefined for incomparable objects\n",
      "  join_index = self.union(other)\n"
     ]
    },
    {
     "name": "stdout",
     "output_type": "stream",
     "text": [
      "B12505\n",
      "13\n",
      "B15001\n",
      "49\n",
      "34\n",
      "B17008\n",
      "3\n",
      "B19001\n",
      "17\n",
      "B19013\n",
      "1\n",
      "B19025\n",
      "1\n",
      "B19057\n",
      "3\n",
      "B19058\n",
      "3\n",
      "B19081\n",
      "6\n",
      "B19083\n",
      "1\n",
      "B19301\n",
      "1\n",
      "B19301A\n",
      "1\n",
      "B19301B\n",
      "1\n",
      "B21001\n",
      "39\n",
      "B23018\n",
      "3\n",
      "B23020\n",
      "3\n",
      "B24081\n",
      "9\n",
      "B25001\n",
      "1\n",
      "B25002\n",
      "3\n",
      "B25003\n",
      "3\n",
      "B25031\n",
      "7\n",
      "B25041\n",
      "7\n",
      "B25070\n",
      "11\n",
      "B25071\n",
      "1\n",
      "B25075\n",
      "27\n",
      "B25077\n",
      "1\n",
      "B25094\n",
      "18\n",
      "B25096\n",
      "21\n",
      "B25097\n",
      "3\n",
      "B25100\n",
      "13\n",
      "B27001\n",
      "49\n",
      "8\n",
      "B27010\n",
      "49\n",
      "17\n"
     ]
    }
   ],
   "source": [
    "%time\n",
    "# loop through all variables and merge data together\n",
    "count = 0\n",
    "for variable in variables:\n",
    "    print(variable)\n",
    "    data = censusdata_pull(variable)\n",
    "    \n",
    "    if count == 0:\n",
    "        full_data = data\n",
    "    else:\n",
    "        full_data = full_data.join(data, how = 'outer')\n",
    "    count += 1"
   ]
  },
  {
   "cell_type": "code",
   "execution_count": 12,
   "metadata": {},
   "outputs": [
    {
     "name": "stdout",
     "output_type": "stream",
     "text": [
      "(64, 1302)\n"
     ]
    }
   ],
   "source": [
    "print(full_data.shape)"
   ]
  },
  {
   "cell_type": "code",
   "execution_count": 34,
   "metadata": {},
   "outputs": [
    {
     "name": "stdout",
     "output_type": "stream",
     "text": [
      "N:\\Transfer\\KSkvoretz\\AHRQ\\data\\01_Demographic\\cleaned\n"
     ]
    }
   ],
   "source": [
    "print(output)\n",
    "full_data.to_csv(os.path.join(output, 'ACS_cleaned.csv'))"
   ]
  }
 ],
 "metadata": {
  "kernelspec": {
   "display_name": "AHRQ-ebGvUS5S",
   "language": "python",
   "name": "ahrq-ebgvus5s"
  },
  "language_info": {
   "codemirror_mode": {
    "name": "ipython",
    "version": 3
   },
   "file_extension": ".py",
   "mimetype": "text/x-python",
   "name": "python",
   "nbconvert_exporter": "python",
   "pygments_lexer": "ipython3",
   "version": "3.7.3"
  }
 },
 "nbformat": 4,
 "nbformat_minor": 2
}
