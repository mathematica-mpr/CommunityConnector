{
 "cells": [
  {
   "cell_type": "markdown",
   "metadata": {},
   "source": [
    "## Data that might not be useful"
   ]
  },
  {
   "cell_type": "code",
   "execution_count": 2,
   "metadata": {},
   "outputs": [],
   "source": [
    "# CPS ASEC: https://www.census.gov/programs-surveys/cps/data-detail.html\n",
    "# https://www.census.gov/cps/data/cpstablecreator.html?#\n",
    "# install: https://dataferrett.census.gov/?#\n",
    "# only found by state\n",
    "\n",
    "# SIPP\n",
    "# Codebook: https://www.census.gov/data-tools/demo/sipp/#/\n",
    "# Data: https://thedataweb.rm.census.gov/ftp/sipp_ftp.html?#\n",
    "# --> Wave 1 Data File\n",
    "# OR: https://www.census.gov/programs-surveys/sipp/data/datasets/2014-panel/wave-3.html\n",
    "# not sure if this is at the county/location level??\n",
    "# DataFerrett doesn't work??\n",
    "\n",
    "# SIPP synthetic data\n",
    "# To apply please submit \"Application to use the SIPP Synthetic Beta File\" \n",
    "# to sehsd.synthetic.data.use.list@census.gov\n",
    "# https://www.census.gov/content/dam/Census/programs-surveys/sipp/methodology/SSBApplication_template06252012.pdf\n",
    "\n",
    "# SAHIE API:\n",
    "# https://www.census.gov/data/developers/data-sets/Health-Insurance-Statistics.html\n",
    "# incomes/poverty ratios\n",
    "# already have this in ACS"
   ]
  },
  {
   "cell_type": "markdown",
   "metadata": {},
   "source": [
    "## Data that might be useful"
   ]
  },
  {
   "cell_type": "code",
   "execution_count": 3,
   "metadata": {},
   "outputs": [],
   "source": [
    "# QHP Landscape Individual Market Medical ***\n",
    "# https://data.healthcare.gov/dataset/QHP-Landscape-Individual-Market-Medical/b8in-sz6k\n",
    "# by state and county\n",
    "\n",
    "# Insurer participation by county + dashboard here:\n",
    "# https://www.kff.org/health-reform/issue-brief/insurer-participation-on-aca-marketplaces-2014-2019/\n",
    "\n",
    "# Others:\n",
    "# https://www.cms.gov/CCIIO/Resources/Data-Resources/marketplace-puf.html\n",
    "# Service Area PUF:\n",
    "# https://www.cms.gov/CCIIO/Resources/Data-Resources/Downloads/Service-Area-Data-Dictionary-2019.pdf\n",
    "# Plan ID Crosswalk:\n",
    "# https://www.cms.gov/CCIIO/Resources/Data-Resources/Downloads/Plan-ID-Crosswalk-Data-Dictionary-2019.pdf\n",
    "# Transparency in Coverage\n",
    "# https://www.cms.gov/CCIIO/Resources/Data-Resources/Downloads/Transparency-Coverage-Data-Methodology-2019.pdf"
   ]
  }
 ],
 "metadata": {
  "kernelspec": {
   "display_name": "AHRQ-ebGvUS5S",
   "language": "python",
   "name": "ahrq-ebgvus5s"
  },
  "language_info": {
   "codemirror_mode": {
    "name": "ipython",
    "version": 3
   },
   "file_extension": ".py",
   "mimetype": "text/x-python",
   "name": "python",
   "nbconvert_exporter": "python",
   "pygments_lexer": "ipython3",
   "version": "3.7.3"
  }
 },
 "nbformat": 4,
 "nbformat_minor": 2
}
